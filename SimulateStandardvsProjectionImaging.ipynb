{
  "nbformat": 4,
  "nbformat_minor": 0,
  "metadata": {
    "colab": {
      "provenance": [],
      "machine_shape": "hm",
      "gpuType": "A100"
    },
    "kernelspec": {
      "name": "python3",
      "display_name": "Python 3"
    },
    "language_info": {
      "name": "python"
    },
    "accelerator": "GPU"
  },
  "cells": [
    {
      "cell_type": "markdown",
      "source": [
        "# Simple simulation for Standard and Projection imaging"
      ],
      "metadata": {
        "id": "f0WhwTe85bwD"
      }
    },
    {
      "cell_type": "code",
      "source": [
        "# @title Install and import packages\n",
        "!pip install -q git+https://github.com/QI2lab/localize-psf.git\n",
        "!pip install -q psfmodels\n",
        "!pip install -q stackview ipycanvas==0.11\n",
        "\n",
        "import numpy as np\n",
        "from localize_psf import camera, fit_psf\n",
        "from psfmodels import tot_psf\n",
        "import stackview\n",
        "from google.colab import output\n",
        "try:\n",
        "  import cupy as cp\n",
        "except:\n",
        "  xp = np\n",
        "else:\n",
        "  xp = cp\n",
        "\n",
        "output.enable_custom_widget_manager()\n",
        "rng = np.random.default_rng()"
      ],
      "metadata": {
        "colab": {
          "base_uri": "https://localhost:8080/"
        },
        "collapsed": true,
        "id": "HPCrJFa9amWO",
        "outputId": "a72cdda0-651d-41dd-f990-7504a8056a13",
        "cellView": "form"
      },
      "execution_count": null,
      "outputs": [
        {
          "output_type": "stream",
          "name": "stdout",
          "text": [
            "  Preparing metadata (setup.py) ... \u001b[?25l\u001b[?25hdone\n"
          ]
        }
      ]
    },
    {
      "cell_type": "code",
      "source": [
        "# @title Generate simulated object and PSF\n",
        "z_footprint = 64\n",
        "dxy_exp = .114\n",
        "dz_exp = .114\n",
        "dxy_gt = dxy_exp/3\n",
        "dz_gt = dz_exp/3\n",
        "\n",
        "gt_exp_xy_factor = int(dxy_exp/dxy_gt)\n",
        "gt_exp_z_factor = int(dz_exp/dz_gt)\n",
        "nxy_gt = 400 * gt_exp_xy_factor\n",
        "nz_gt = z_footprint * gt_exp_z_factor\n",
        "\n",
        "gt_image = np.random.rand(nz_gt,nxy_gt,nxy_gt).astype(np.float32)\n",
        "gt_image[gt_image>=0.999999]=1.\n",
        "gt_image[gt_image<0.999999]=0.\n",
        "\n",
        "# microscope and PSF parameters\n",
        "ex_NA = .01\n",
        "em_NA = 1.35\n",
        "ex_wvl = .488 # um\n",
        "em_wvl = .515 # um\n",
        "\n",
        "silicone_lens = {\n",
        "    'ni0': 1.4, # immersion medium RI design value\n",
        "    'ni': 1.4,  # immersion medium RI experimental value\n",
        "    'ns': 1.33,  # specimen refractive index\n",
        "    'tg': 170, # microns, coverslip thickness\n",
        "    'tg0': 170 # microns, coverslip thickness design value\n",
        "}\n",
        "ex_lens = {**silicone_lens, 'NA': ex_NA}\n",
        "ex_wvl = ex_wvl\n",
        "em_lens = {**silicone_lens, 'NA': em_NA}\n",
        "em_wvl = em_wvl\n",
        "func = 'vectorial'\n",
        "\n",
        "nx_psf = 127\n",
        "nz_psf = 127\n",
        "\n",
        "_, _, psf =tot_psf(nx=nx_psf, nz=nz_psf, dxy=dxy_gt, dz=dz_gt, pz=0,\n",
        "                  x_offset=0, z_offset=0,\n",
        "                  ex_wvl = ex_wvl, em_wvl = em_wvl,\n",
        "                  ex_params=ex_lens, em_params=em_lens,\n",
        "                  psf_func=func)\n",
        "\n",
        "psf /= np.sum(psf,axis=(0,1,2)).astype(np.float32)"
      ],
      "metadata": {
        "cellView": "form",
        "id": "ybsWXxN9FLBl"
      },
      "execution_count": null,
      "outputs": []
    },
    {
      "cell_type": "code",
      "source": [
        "# @title Setup photon emission and exposure times\n",
        "# @markdown # Camera limited simulation\n",
        "#\n",
        "# @markdown ##Supp. Fig 3A\n",
        "#\n",
        "# @markdown emission = 3000 photon/ms\n",
        "#\n",
        "# @markdown standard exposure = 1.7 ms\n",
        "#\n",
        "# @markdown projection exposure = 5.0 ms\n",
        "#\n",
        "# @markdown ~ 69 times faster projection imaging\n",
        "#\n",
        "# @markdown ##Supp. Fig 3B\n",
        "#\n",
        "# @markdown emission = 30000 photon/ms\n",
        "#\n",
        "# @markdown standard exposure = 1.7 ms\n",
        "#\n",
        "# @markdown projection exposure = 5.0 ms\n",
        "#\n",
        "# @markdown ~ 69 times faster projection imaging\n",
        "#\n",
        "# @markdown #Sample limited simulation\n",
        "#\n",
        "# @markdown ##Supp. Fig 3C\n",
        "#\n",
        "# @markdown emission = 300 photon/ms\n",
        "#\n",
        "# @markdown standard exposure = 2.0 ms\n",
        "#\n",
        "# @markdown projection exposure = 50.0 ms\n",
        "#\n",
        "# @markdown ~ 8 times faster projection imaging\n",
        "Effective_emission_rate = 300 # @param {type:\"number\"}\n",
        "eff_em_rate = Effective_emission_rate\n",
        "Standard_per_plane_exposure_time_ms = 2 # @param {type:\"slider\", min:1.7, max:100, step:0.1}\n",
        "exposure_time_standard = Standard_per_plane_exposure_time_ms\n",
        "Projection_per_image_exposure_ms = 50 # @param {type:\"slider\", min:5, max:100, step:0.1}\n",
        "exposure_time_projection = Projection_per_image_exposure_ms/z_footprint #ms\n",
        "\n"
      ],
      "metadata": {
        "id": "pjBKcQLPFknC",
        "cellView": "form"
      },
      "execution_count": null,
      "outputs": []
    },
    {
      "cell_type": "code",
      "source": [
        "# @title Generate camera simulation for digitally projected image of full 3D volume\n",
        "\n",
        "# blur on gt grid and then resample onto experimental XY grid\n",
        "gt_blurred = fit_psf.blur_img_psf(xp.asarray(gt_image*eff_em_rate*exposure_time_standard),\n",
        "                                  xp.asarray(psf),\n",
        "                                  apodization=None).real\n",
        "binned_blurred = camera.bin(xp.asarray(gt_blurred),(gt_exp_xy_factor,gt_exp_xy_factor))\n",
        "\n",
        "# subsample in Z to simulate focus stacking\n",
        "stack_binned_blurred = binned_blurred[::gt_exp_z_factor,:,:]\n",
        "\n",
        "# apply photon shot noise and camera read noise to each image in volume\n",
        "full_volume, snr = camera.simulated_img(ground_truth = xp.asarray(stack_binned_blurred),\n",
        "                                      gains = 2.0,\n",
        "                                      offsets = 100.,\n",
        "                                      readout_noise_sds = 2.1,\n",
        "                                      psf=None,\n",
        "                                      photon_shot_noise=True)\n",
        "\n",
        "# convert to 16-bit\n",
        "full_volume = full_volume.astype(np.uint16)\n",
        "\n",
        "# create digital sum projection of 3D volume\n",
        "max_proj_image = np.sum(full_volume,axis=0).astype(np.uint16)\n",
        "\n",
        "# clean up memory\n",
        "del gt_blurred, binned_blurred, stack_binned_blurred\n",
        "if xp == cp:\n",
        "  cp._default_memory_pool.free_all_blocks()"
      ],
      "metadata": {
        "id": "6CHdqNAFepOy",
        "cellView": "form"
      },
      "execution_count": null,
      "outputs": []
    },
    {
      "cell_type": "code",
      "source": [
        "# @title Generate camera simulation for optically projected image\n",
        "# blur with psf on gt grid\n",
        "gt_blurred_projection = fit_psf.blur_img_psf(xp.asarray(gt_image*eff_em_rate*exposure_time_projection),\n",
        "                                            xp.asarray(psf),\n",
        "                                            apodization=None).real\n",
        "# project in z\n",
        "blurred_projected = np.squeeze(np.sum(gt_blurred_projection,axis=0))\n",
        "\n",
        "# resample onto experimental grid (only XY in this case)\n",
        "binned_blurred_projected = np.squeeze(camera.bin(xp.expand_dims(xp.asarray(blurred_projected),0),\n",
        "                                                 (gt_exp_xy_factor,gt_exp_xy_factor)))\n",
        "\n",
        "# apply photon shot and camera readout noise\n",
        "projected_image, projected_snr = camera.simulated_img(ground_truth = xp.asarray(binned_blurred_projected),\n",
        "                                                      gains = 2.0,\n",
        "                                                      offsets = 100.,\n",
        "                                                      readout_noise_sds = 2.1,\n",
        "                                                      psf=None,\n",
        "                                                      photon_shot_noise=True)\n",
        "\n",
        "# convert to 16-bit\n",
        "projected_image = projected_image.astype(np.uint16)\n",
        "\n",
        "# clean up memory\n",
        "del gt_blurred_projection, blurred_projected, binned_blurred_projected\n",
        "if xp == cp:\n",
        "  cp._default_memory_pool.free_all_blocks()"
      ],
      "metadata": {
        "id": "EVHMLhOVvkqC",
        "cellView": "form"
      },
      "execution_count": null,
      "outputs": []
    },
    {
      "cell_type": "code",
      "source": [
        "# @title Display result side-by-side\n",
        "# @markdown Left: Digitally projected sum for standard 3D volume\n",
        "#\n",
        "# @markdown Right: Projection imaging\n",
        "\n",
        "stackview.curtain(max_proj_image, projected_image, continuous_update=True,zoom_factor=1.0)"
      ],
      "metadata": {
        "id": "1llVsogbjdWC",
        "cellView": "form"
      },
      "execution_count": null,
      "outputs": []
    },
    {
      "cell_type": "code",
      "source": [
        "# @title Display digital sum projection for Standard image with histogram\n",
        "stackview.insight(max_proj_image)\n"
      ],
      "metadata": {
        "id": "BLhhrgXOMqy1",
        "cellView": "form"
      },
      "execution_count": null,
      "outputs": []
    },
    {
      "cell_type": "code",
      "source": [
        "# @title Display Projection image with histogram\n",
        "stackview.insight(projected_image)"
      ],
      "metadata": {
        "cellView": "form",
        "id": "3lS-x7wWKzu2"
      },
      "execution_count": null,
      "outputs": []
    }
  ]
}